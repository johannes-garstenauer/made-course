{
 "cells": [
  {
   "cell_type": "code",
   "execution_count": 2,
   "metadata": {},
   "outputs": [
    {
     "name": "stdout",
     "output_type": "stream",
     "text": [
      "First 5 rows:\n",
      "     fecha reporte web  ID de caso Fecha de notificación  \\\n",
      "0  2020-12-24 00:00:00     1556982   2020-12-22 00:00:00   \n",
      "1  2020-12-24 00:00:00     1556986   2020-12-18 00:00:00   \n",
      "2  2020-11-08 00:00:00     1137434   2020-11-05 00:00:00   \n",
      "3  2020-11-08 00:00:00     1137440   2020-11-03 00:00:00   \n",
      "4  2020-11-08 00:00:00     1137443   2020-11-04 00:00:00   \n",
      "\n",
      "   Código DIVIPOLA departamento Nombre departamento  \\\n",
      "0                            76               VALLE   \n",
      "1                            76               VALLE   \n",
      "2                            11              BOGOTA   \n",
      "3                            63             QUINDIO   \n",
      "4                            11              BOGOTA   \n",
      "\n",
      "   Código DIVIPOLA municipio Nombre municipio  Edad  Unidad de medida de edad  \\\n",
      "0                      76001             CALI    74                         1   \n",
      "1                      76001             CALI    66                         1   \n",
      "2                      11001           BOGOTA    81                         1   \n",
      "3                      63001          ARMENIA    85                         1   \n",
      "4                      11001           BOGOTA    78                         1   \n",
      "\n",
      "  Sexo  ... Código ISO del país Nombre del país Recuperado  \\\n",
      "0    F  ...                 NaN             NaN  Fallecido   \n",
      "1    F  ...                 NaN             NaN  Fallecido   \n",
      "2    F  ...                 NaN             NaN  Fallecido   \n",
      "3    F  ...                 NaN             NaN  Fallecido   \n",
      "4    M  ...                 NaN             NaN  Fallecido   \n",
      "\n",
      "   Fecha de inicio de síntomas      Fecha de muerte Fecha de diagnóstico  \\\n",
      "0          2020-12-17 00:00:00  2020-12-30 00:00:00  2020-12-23 00:00:00   \n",
      "1          2020-12-11 00:00:00  2020-12-26 00:00:00  2020-12-22 00:00:00   \n",
      "2          2020-10-31 00:00:00  2020-11-11 00:00:00  2020-11-07 00:00:00   \n",
      "3          2020-10-31 00:00:00  2020-11-12 00:00:00  2020-10-31 00:00:00   \n",
      "4          2020-10-31 00:00:00  2020-11-16 00:00:00  2020-11-07 00:00:00   \n",
      "\n",
      "  Fecha de recuperación Tipo de recuperación Pertenencia étnica  \\\n",
      "0                   NaN                  NaN                  6   \n",
      "1                   NaN                  NaN                  6   \n",
      "2                   NaN                  NaN                  6   \n",
      "3                   NaN                  NaN                  6   \n",
      "4                   NaN                  NaN                  6   \n",
      "\n",
      "   Nombre del grupo étnico  \n",
      "0                      NaN  \n",
      "1                      NaN  \n",
      "2                      NaN  \n",
      "3                      NaN  \n",
      "4                      NaN  \n",
      "\n",
      "[5 rows x 23 columns]\n"
     ]
    }
   ],
   "source": [
    "import pandas as pd\n",
    "\n",
    "# Read CSV file into a DataFrame\n",
    "df = pd.read_csv('Fallecidos_COVID_en_Colombia_20241106.csv')\n",
    "\n",
    "# Display the first few rows\n",
    "print(\"First 5 rows:\")\n",
    "print(df.head())"
   ]
  },
  {
   "cell_type": "code",
   "execution_count": 3,
   "metadata": {},
   "outputs": [
    {
     "name": "stdout",
     "output_type": "stream",
     "text": [
      "\n",
      "Basic Statistics:\n",
      "         ID de caso  Código DIVIPOLA departamento  Código DIVIPOLA municipio  \\\n",
      "count  1.431250e+05                 143125.000000              143125.000000   \n",
      "mean   2.661864e+06                   1278.113369               33386.606707   \n",
      "std    1.739699e+06                   6045.118127               27409.352429   \n",
      "min    1.520000e+02                      5.000000                5001.000000   \n",
      "25%    1.161795e+06                     11.000000               11001.000000   \n",
      "50%    2.574208e+06                     25.000000               20001.000000   \n",
      "75%    3.964056e+06                     68.000000               63190.000000   \n",
      "max    6.388321e+06                  47001.000000               99773.000000   \n",
      "\n",
      "                Edad  Unidad de medida de edad  Código ISO del país  \\\n",
      "count  143125.000000             143125.000000            94.000000   \n",
      "mean       68.477939                  1.000936           583.702128   \n",
      "std        15.572765                  0.032789           335.247712   \n",
      "min         1.000000                  1.000000             4.000000   \n",
      "25%        59.000000                  1.000000           218.000000   \n",
      "50%        70.000000                  1.000000           840.000000   \n",
      "75%        80.000000                  1.000000           862.000000   \n",
      "max       112.000000                  3.000000          1000.000000   \n",
      "\n",
      "       Fecha de recuperación  Tipo de recuperación  Pertenencia étnica  \n",
      "count                    0.0                   0.0       143125.000000  \n",
      "mean                     NaN                   NaN            5.894526  \n",
      "std                      NaN                   NaN            0.645620  \n",
      "min                      NaN                   NaN            1.000000  \n",
      "25%                      NaN                   NaN            6.000000  \n",
      "50%                      NaN                   NaN            6.000000  \n",
      "75%                      NaN                   NaN            6.000000  \n",
      "max                      NaN                   NaN            6.000000  \n"
     ]
    }
   ],
   "source": [
    "\n",
    "# Get basic statistics\n",
    "print(\"\\nBasic Statistics:\")\n",
    "print(df.describe())"
   ]
  },
  {
   "cell_type": "code",
   "execution_count": 4,
   "metadata": {},
   "outputs": [
    {
     "data": {
      "text/plain": [
       "array(['Fallecido', 'fallecido'], dtype=object)"
      ]
     },
     "execution_count": 4,
     "metadata": {},
     "output_type": "execute_result"
    }
   ],
   "source": [
    "df[\"Recuperado\"].unique()"
   ]
  },
  {
   "cell_type": "code",
   "execution_count": 7,
   "metadata": {},
   "outputs": [
    {
     "name": "stdout",
     "output_type": "stream",
     "text": [
      "Total deaths: 143,125\n"
     ]
    }
   ],
   "source": [
    "total_deaths = df.shape[0]\n",
    "print(f\"Total deaths: {total_deaths:,}\")"
   ]
  },
  {
   "cell_type": "code",
   "execution_count": 10,
   "metadata": {},
   "outputs": [
    {
     "name": "stdout",
     "output_type": "stream",
     "text": [
      "Range of death dates: 2020-03-15 to 2024-01-12\n"
     ]
    }
   ],
   "source": [
    "# Convert the date columns to datetime \n",
    "df['Fecha de muerte'] = pd.to_datetime(df['Fecha de muerte']) \n",
    "# Find the range of dates \n",
    "earliest_death = df['Fecha de muerte'].min() \n",
    "latest_death = df['Fecha de muerte'].max() \n",
    "print(f\"Range of death dates: {earliest_death.date()} to {latest_death.date()}\")"
   ]
  },
  {
   "cell_type": "code",
   "execution_count": null,
   "metadata": {},
   "outputs": [],
   "source": []
  }
 ],
 "metadata": {
  "kernelspec": {
   "display_name": ".venv",
   "language": "python",
   "name": "python3"
  },
  "language_info": {
   "codemirror_mode": {
    "name": "ipython",
    "version": 3
   },
   "file_extension": ".py",
   "mimetype": "text/x-python",
   "name": "python",
   "nbconvert_exporter": "python",
   "pygments_lexer": "ipython3",
   "version": "3.12.3"
  }
 },
 "nbformat": 4,
 "nbformat_minor": 2
}
