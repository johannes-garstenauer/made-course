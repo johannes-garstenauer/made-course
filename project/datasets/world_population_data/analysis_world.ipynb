{
 "cells": [
  {
   "cell_type": "code",
   "execution_count": 2,
   "metadata": {},
   "outputs": [
    {
     "name": "stdout",
     "output_type": "stream",
     "text": [
      "First 5 rows:\n",
      "                  Country Name Country Code     Indicator Name Indicator Code  \\\n",
      "0                        Aruba          ABW  Population, total    SP.POP.TOTL   \n",
      "1  Africa Eastern and Southern          AFE  Population, total    SP.POP.TOTL   \n",
      "2                  Afghanistan          AFG  Population, total    SP.POP.TOTL   \n",
      "3   Africa Western and Central          AFW  Population, total    SP.POP.TOTL   \n",
      "4                       Angola          AGO  Population, total    SP.POP.TOTL   \n",
      "\n",
      "          1960         1961         1962         1963         1964  \\\n",
      "0      54608.0      55811.0      56682.0      57475.0      58178.0   \n",
      "1  130692579.0  134169237.0  137835590.0  141630546.0  145605995.0   \n",
      "2    8622466.0    8790140.0    8969047.0    9157465.0    9355514.0   \n",
      "3   97256290.0   99314028.0  101445032.0  103667517.0  105959979.0   \n",
      "4    5357195.0    5441333.0    5521400.0    5599827.0    5673199.0   \n",
      "\n",
      "          1965  ...         2015         2016         2017         2018  \\\n",
      "0      58782.0  ...     104257.0     104874.0     105439.0     105962.0   \n",
      "1  149742351.0  ...  600008424.0  616377605.0  632746570.0  649757148.0   \n",
      "2    9565147.0  ...   33753499.0   34636207.0   35643418.0   36686784.0   \n",
      "3  108336203.0  ...  408690375.0  419778384.0  431138704.0  442646825.0   \n",
      "4    5736582.0  ...   28127721.0   29154746.0   30208628.0   31273533.0   \n",
      "\n",
      "          2019         2020         2021         2022         2023  \\\n",
      "0     106442.0     106585.0     106537.0     106445.0     106277.0   \n",
      "1  667242986.0  685112979.0  702977106.0  720859132.0  739108306.0   \n",
      "2   37769499.0   38972230.0   40099462.0   41128771.0   42239854.0   \n",
      "3  454306063.0  466189102.0  478185907.0  490330870.0  502789511.0   \n",
      "4   32353588.0   33428486.0   34503774.0   35588987.0   36684202.0   \n",
      "\n",
      "   Unnamed: 68  \n",
      "0          NaN  \n",
      "1          NaN  \n",
      "2          NaN  \n",
      "3          NaN  \n",
      "4          NaN  \n",
      "\n",
      "[5 rows x 69 columns]\n"
     ]
    }
   ],
   "source": [
    "import pandas as pd\n",
    "\n",
    "# Read CSV file into a DataFrame\n",
    "df = pd.read_csv('API_SP.POP.TOTL_DS2_en_csv_v2_9949.csv', sep=\",\")\n",
    "\n",
    "# Display the first few rows\n",
    "print(\"First 5 rows:\")\n",
    "print(df.head())"
   ]
  },
  {
   "cell_type": "code",
   "execution_count": null,
   "metadata": {},
   "outputs": [
    {
     "name": "stdout",
     "output_type": "stream",
     "text": [
      "   Country Name Country Code        2019        2020        2021        2022  \\\n",
      "39        Chile          CHL  19,039,485  19,300,315  19,493,184  19,603,733   \n",
      "\n",
      "          2023  \n",
      "39  19,629,590  \n"
     ]
    }
   ],
   "source": [
    "df_chile = df[df['Country Name'] == 'Chile'][['Country Name', 'Country Code', '2019', '2020', '2021', '2022', '2023']]\n",
    "\n",
    "# Format numbers with commas for better readability \n",
    "for year in ['2019', '2020', '2021', '2022', '2023']: \n",
    "    df_chile[year] = df_chile[year].apply(lambda x: f\"{int(x):,}\")\n",
    "\n",
    "print(df_chile)"
   ]
  },
  {
   "cell_type": "code",
   "execution_count": 11,
   "metadata": {},
   "outputs": [
    {
     "name": "stdout",
     "output_type": "stream",
     "text": [
      "Range of years: 2020 - 2024\n"
     ]
    }
   ],
   "source": [
    "# Convert to datetime \n",
    "df['FECHA_DEF'] = pd.to_datetime(df['FECHA_DEF']) \n",
    "\n",
    "# Extract year \n",
    "df['Year'] = df['FECHA_DEF'].dt.year \n",
    "# Find the range of years \n",
    "min_year = df['Year'].min() \n",
    "max_year = df['Year'].max() \n",
    "print(f\"Range of years: {min_year} - {max_year}\")"
   ]
  },
  {
   "cell_type": "code",
   "execution_count": 3,
   "metadata": {},
   "outputs": [
    {
     "name": "stdout",
     "output_type": "stream",
     "text": [
      "\n",
      "Basic Statistics:\n",
      "              Month      MMWR Week  COVID-19 Deaths  Total Deaths\n",
      "count  35640.000000  154440.000000    152813.000000  1.295980e+05\n",
      "mean       6.200000      25.271795        59.456584  7.619797e+02\n",
      "std        3.350669      14.672295      1270.175825  1.502455e+04\n",
      "min        1.000000       1.000000         0.000000  0.000000e+00\n",
      "25%        3.000000      13.000000         0.000000  0.000000e+00\n",
      "50%        6.000000      25.000000         0.000000  2.600000e+01\n",
      "75%        9.000000      37.000000         0.000000  1.500000e+02\n",
      "max       12.000000      53.000000    244841.000000  2.883904e+06\n"
     ]
    }
   ],
   "source": [
    "\n",
    "# Get basic statistics\n",
    "print(\"\\nBasic Statistics:\")\n",
    "print(df.describe())"
   ]
  },
  {
   "cell_type": "code",
   "execution_count": 12,
   "metadata": {},
   "outputs": [
    {
     "name": "stdout",
     "output_type": "stream",
     "text": [
      "\n",
      "Missing Values:\n",
      "AÑO                              0\n",
      "FECHA_DEF                        0\n",
      "SEXO_NOMBRE                      0\n",
      "EDAD_TIPO                        0\n",
      "EDAD_CANT                        0\n",
      "COD_COMUNA                       0\n",
      "COMUNA                           0\n",
      "NOMBRE_REGION                    0\n",
      "DIAG1                            0\n",
      "CAPITULO_DIAG1                   0\n",
      "GLOSA_CAPITULO_DIAG1             0\n",
      "CODIGO_GRUPO_DIAG1               0\n",
      "GLOSA_GRUPO_DIAG1                0\n",
      "CODIGO_CATEGORIA_DIAG1           0\n",
      "GLOSA_CATEGORIA_DIAG1            0\n",
      "CODIGO_SUBCATEGORIA_DIAG1        0\n",
      "GLOSA_SUBCATEGORIA_DIAG1         0\n",
      "DIAG2                        57264\n",
      "CAPITULO_DIAG2               58215\n",
      "GLOSA_CAPITULO_DIAG2         58215\n",
      "CODIGO_GRUPO_DIAG2           58215\n",
      "GLOSA_GRUPO_DIAG2            58215\n",
      "CODIGO_CATEGORIA_DIAG2       58215\n",
      "GLOSA_CATEGORIA_DIAG2        58215\n",
      "CODIGO_SUBCATEGORIA_DIAG2    58215\n",
      "GLOSA_SUBCATEGORIA_DIAG2     58215\n",
      "LUGAR_DEFUNCION                  0\n",
      "Year                             0\n",
      "dtype: int64\n"
     ]
    }
   ],
   "source": [
    "# Check for missing values\n",
    "print(\"\\nMissing Values:\")\n",
    "print(df.isnull().sum())"
   ]
  }
 ],
 "metadata": {
  "kernelspec": {
   "display_name": ".venv",
   "language": "python",
   "name": "python3"
  },
  "language_info": {
   "codemirror_mode": {
    "name": "ipython",
    "version": 3
   },
   "file_extension": ".py",
   "mimetype": "text/x-python",
   "name": "python",
   "nbconvert_exporter": "python",
   "pygments_lexer": "ipython3",
   "version": "3.12.3"
  }
 },
 "nbformat": 4,
 "nbformat_minor": 2
}
