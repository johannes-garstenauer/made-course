{
 "cells": [
  {
   "cell_type": "code",
   "execution_count": 9,
   "metadata": {},
   "outputs": [
    {
     "name": "stdout",
     "output_type": "stream",
     "text": [
      "First 5 rows:\n",
      "    AÑO   FECHA_DEF SEXO_NOMBRE  EDAD_TIPO  EDAD_CANT  COD_COMUNA      COMUNA  \\\n",
      "0  2020  2020-12-31       Mujer          1         99        7101       Talca   \n",
      "1  2020  2020-03-20      Hombre          1         64       13102   Cerrillos   \n",
      "2  2020  2020-03-21       Mujer          1         82       13128       Renca   \n",
      "3  2020  2020-03-25      Hombre          1         82        8101  Concepción   \n",
      "4  2020  2020-03-26      Hombre          1         79        8112     Hualpén   \n",
      "\n",
      "               NOMBRE_REGION DIAG1 CAPITULO_DIAG1  ... DIAG2 CAPITULO_DIAG2  \\\n",
      "0                  Del Maule  U071        U00-U99  ...   NaN            NaN   \n",
      "1  Metropolitana de Santiago  U071        U00-U99  ...   NaN            NaN   \n",
      "2  Metropolitana de Santiago  U071        U00-U99  ...   NaN            NaN   \n",
      "3                 Del Bíobío  U071        U00-U99  ...   NaN            NaN   \n",
      "4                 Del Bíobío  U071        U00-U99  ...   NaN            NaN   \n",
      "\n",
      "  GLOSA_CAPITULO_DIAG2 CODIGO_GRUPO_DIAG2 GLOSA_GRUPO_DIAG2  \\\n",
      "0                  NaN                NaN               NaN   \n",
      "1                  NaN                NaN               NaN   \n",
      "2                  NaN                NaN               NaN   \n",
      "3                  NaN                NaN               NaN   \n",
      "4                  NaN                NaN               NaN   \n",
      "\n",
      "  CODIGO_CATEGORIA_DIAG2 GLOSA_CATEGORIA_DIAG2 CODIGO_SUBCATEGORIA_DIAG2  \\\n",
      "0                    NaN                   NaN                       NaN   \n",
      "1                    NaN                   NaN                       NaN   \n",
      "2                    NaN                   NaN                       NaN   \n",
      "3                    NaN                   NaN                       NaN   \n",
      "4                    NaN                   NaN                       NaN   \n",
      "\n",
      "   GLOSA_SUBCATEGORIA_DIAG2     LUGAR_DEFUNCION  \n",
      "0                       NaN                Otro  \n",
      "1                       NaN                Otro  \n",
      "2                       NaN  Hospital o Clínica  \n",
      "3                       NaN  Hospital o Clínica  \n",
      "4                       NaN  Hospital o Clínica  \n",
      "\n",
      "[5 rows x 27 columns]\n"
     ]
    }
   ],
   "source": [
    "import pandas as pd\n",
    "\n",
    "# Read CSV file into a DataFrame\n",
    "df = pd.read_csv('defunciones_covid19_2020_2024.csv', sep=\";\")\n",
    "\n",
    "# Display the first few rows\n",
    "print(\"First 5 rows:\")\n",
    "print(df.head())"
   ]
  },
  {
   "cell_type": "code",
   "execution_count": 11,
   "metadata": {},
   "outputs": [
    {
     "name": "stdout",
     "output_type": "stream",
     "text": [
      "Range of years: 2020 - 2024\n"
     ]
    }
   ],
   "source": [
    "# Convert to datetime \n",
    "df['FECHA_DEF'] = pd.to_datetime(df['FECHA_DEF']) \n",
    "\n",
    "# Extract year \n",
    "df['Year'] = df['FECHA_DEF'].dt.year \n",
    "# Find the range of years \n",
    "min_year = df['Year'].min() \n",
    "max_year = df['Year'].max() \n",
    "print(f\"Range of years: {min_year} - {max_year}\")"
   ]
  },
  {
   "cell_type": "code",
   "execution_count": 3,
   "metadata": {},
   "outputs": [
    {
     "name": "stdout",
     "output_type": "stream",
     "text": [
      "\n",
      "Basic Statistics:\n",
      "              Month      MMWR Week  COVID-19 Deaths  Total Deaths\n",
      "count  35640.000000  154440.000000    152813.000000  1.295980e+05\n",
      "mean       6.200000      25.271795        59.456584  7.619797e+02\n",
      "std        3.350669      14.672295      1270.175825  1.502455e+04\n",
      "min        1.000000       1.000000         0.000000  0.000000e+00\n",
      "25%        3.000000      13.000000         0.000000  0.000000e+00\n",
      "50%        6.000000      25.000000         0.000000  2.600000e+01\n",
      "75%        9.000000      37.000000         0.000000  1.500000e+02\n",
      "max       12.000000      53.000000    244841.000000  2.883904e+06\n"
     ]
    }
   ],
   "source": [
    "\n",
    "# Get basic statistics\n",
    "print(\"\\nBasic Statistics:\")\n",
    "print(df.describe())"
   ]
  },
  {
   "cell_type": "code",
   "execution_count": 12,
   "metadata": {},
   "outputs": [
    {
     "name": "stdout",
     "output_type": "stream",
     "text": [
      "\n",
      "Missing Values:\n",
      "AÑO                              0\n",
      "FECHA_DEF                        0\n",
      "SEXO_NOMBRE                      0\n",
      "EDAD_TIPO                        0\n",
      "EDAD_CANT                        0\n",
      "COD_COMUNA                       0\n",
      "COMUNA                           0\n",
      "NOMBRE_REGION                    0\n",
      "DIAG1                            0\n",
      "CAPITULO_DIAG1                   0\n",
      "GLOSA_CAPITULO_DIAG1             0\n",
      "CODIGO_GRUPO_DIAG1               0\n",
      "GLOSA_GRUPO_DIAG1                0\n",
      "CODIGO_CATEGORIA_DIAG1           0\n",
      "GLOSA_CATEGORIA_DIAG1            0\n",
      "CODIGO_SUBCATEGORIA_DIAG1        0\n",
      "GLOSA_SUBCATEGORIA_DIAG1         0\n",
      "DIAG2                        57264\n",
      "CAPITULO_DIAG2               58215\n",
      "GLOSA_CAPITULO_DIAG2         58215\n",
      "CODIGO_GRUPO_DIAG2           58215\n",
      "GLOSA_GRUPO_DIAG2            58215\n",
      "CODIGO_CATEGORIA_DIAG2       58215\n",
      "GLOSA_CATEGORIA_DIAG2        58215\n",
      "CODIGO_SUBCATEGORIA_DIAG2    58215\n",
      "GLOSA_SUBCATEGORIA_DIAG2     58215\n",
      "LUGAR_DEFUNCION                  0\n",
      "Year                             0\n",
      "dtype: int64\n"
     ]
    }
   ],
   "source": [
    "# Check for missing values\n",
    "print(\"\\nMissing Values:\")\n",
    "print(df.isnull().sum())"
   ]
  }
 ],
 "metadata": {
  "kernelspec": {
   "display_name": ".venv",
   "language": "python",
   "name": "python3"
  },
  "language_info": {
   "codemirror_mode": {
    "name": "ipython",
    "version": 3
   },
   "file_extension": ".py",
   "mimetype": "text/x-python",
   "name": "python",
   "nbconvert_exporter": "python",
   "pygments_lexer": "ipython3",
   "version": "3.12.3"
  }
 },
 "nbformat": 4,
 "nbformat_minor": 2
}
