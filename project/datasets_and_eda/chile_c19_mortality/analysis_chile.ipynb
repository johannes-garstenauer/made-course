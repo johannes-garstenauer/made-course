{
 "cells": [
  {
   "cell_type": "code",
   "metadata": {
    "ExecuteTime": {
     "end_time": "2024-11-22T13:23:50.246682Z",
     "start_time": "2024-11-22T13:23:50.049070Z"
    }
   },
   "source": [
    "import pandas as pd\n",
    "\n",
    "# Read CSV file into a DataFrame\n",
    "df = pd.read_csv('defunciones_covid19_2020_2024.csv', sep=\";\")\n",
    "\n",
    "df"
   ],
   "outputs": [
    {
     "data": {
      "text/plain": [
       "        AÑO   FECHA_DEF SEXO_NOMBRE  EDAD_TIPO  EDAD_CANT  COD_COMUNA  \\\n",
       "0      2020  2020-12-31       Mujer          1         99        7101   \n",
       "1      2020  2020-03-20      Hombre          1         64       13102   \n",
       "2      2020  2020-03-21       Mujer          1         82       13128   \n",
       "3      2020  2020-03-25      Hombre          1         82        8101   \n",
       "4      2020  2020-03-26      Hombre          1         79        8112   \n",
       "...     ...         ...         ...        ...        ...         ...   \n",
       "58308  2024  2024-10-23       Mujer          1         81        5109   \n",
       "58309  2024  2024-10-21       Mujer          1         79        5701   \n",
       "58310  2024  2024-11-05       Mujer          1         87       12101   \n",
       "58311  2024  2024-11-08      Hombre          1         75        7101   \n",
       "58312  2024  2024-11-07      Hombre          1        100        8108   \n",
       "\n",
       "                    COMUNA                            NOMBRE_REGION DIAG1  \\\n",
       "0                    Talca                                Del Maule  U071   \n",
       "1                Cerrillos                Metropolitana de Santiago  U071   \n",
       "2                    Renca                Metropolitana de Santiago  U071   \n",
       "3               Concepción                               Del Bíobío  U071   \n",
       "4                  Hualpén                               Del Bíobío  U071   \n",
       "...                    ...                                      ...   ...   \n",
       "58308         Viña del Mar                            De Valparaíso  U099   \n",
       "58309           San Felipe                            De Valparaíso  U099   \n",
       "58310         Punta Arenas  De Magallanes y de La Antártica Chilena  U099   \n",
       "58311                Talca                                Del Maule  U099   \n",
       "58312  San Pedro de la Paz                               Del Bíobío  U099   \n",
       "\n",
       "      CAPITULO_DIAG1  ... DIAG2 CAPITULO_DIAG2 GLOSA_CAPITULO_DIAG2  \\\n",
       "0            U00-U99  ...   NaN            NaN                  NaN   \n",
       "1            U00-U99  ...   NaN            NaN                  NaN   \n",
       "2            U00-U99  ...   NaN            NaN                  NaN   \n",
       "3            U00-U99  ...   NaN            NaN                  NaN   \n",
       "4            U00-U99  ...   NaN            NaN                  NaN   \n",
       "...              ...  ...   ...            ...                  ...   \n",
       "58308        U00-U99  ...   NaN            NaN                  NaN   \n",
       "58309        U00-U99  ...   NaN            NaN                  NaN   \n",
       "58310        U00-U99  ...   NaN            NaN                  NaN   \n",
       "58311        U00-U99  ...   NaN            NaN                  NaN   \n",
       "58312        U00-U99  ...   NaN            NaN                  NaN   \n",
       "\n",
       "      CODIGO_GRUPO_DIAG2 GLOSA_GRUPO_DIAG2 CODIGO_CATEGORIA_DIAG2  \\\n",
       "0                    NaN               NaN                    NaN   \n",
       "1                    NaN               NaN                    NaN   \n",
       "2                    NaN               NaN                    NaN   \n",
       "3                    NaN               NaN                    NaN   \n",
       "4                    NaN               NaN                    NaN   \n",
       "...                  ...               ...                    ...   \n",
       "58308                NaN               NaN                    NaN   \n",
       "58309                NaN               NaN                    NaN   \n",
       "58310                NaN               NaN                    NaN   \n",
       "58311                NaN               NaN                    NaN   \n",
       "58312                NaN               NaN                    NaN   \n",
       "\n",
       "      GLOSA_CATEGORIA_DIAG2 CODIGO_SUBCATEGORIA_DIAG2  \\\n",
       "0                       NaN                       NaN   \n",
       "1                       NaN                       NaN   \n",
       "2                       NaN                       NaN   \n",
       "3                       NaN                       NaN   \n",
       "4                       NaN                       NaN   \n",
       "...                     ...                       ...   \n",
       "58308                   NaN                       NaN   \n",
       "58309                   NaN                       NaN   \n",
       "58310                   NaN                       NaN   \n",
       "58311                   NaN                       NaN   \n",
       "58312                   NaN                       NaN   \n",
       "\n",
       "       GLOSA_SUBCATEGORIA_DIAG2     LUGAR_DEFUNCION  \n",
       "0                           NaN                Otro  \n",
       "1                           NaN                Otro  \n",
       "2                           NaN  Hospital o Clínica  \n",
       "3                           NaN  Hospital o Clínica  \n",
       "4                           NaN  Hospital o Clínica  \n",
       "...                         ...                 ...  \n",
       "58308                       NaN  Hospital o Clínica  \n",
       "58309                       NaN  Hospital o Clínica  \n",
       "58310                       NaN  Hospital o Clínica  \n",
       "58311                       NaN  Hospital o Clínica  \n",
       "58312                       NaN  Hospital o Clínica  \n",
       "\n",
       "[58313 rows x 27 columns]"
      ],
      "text/html": [
       "<div>\n",
       "<style scoped>\n",
       "    .dataframe tbody tr th:only-of-type {\n",
       "        vertical-align: middle;\n",
       "    }\n",
       "\n",
       "    .dataframe tbody tr th {\n",
       "        vertical-align: top;\n",
       "    }\n",
       "\n",
       "    .dataframe thead th {\n",
       "        text-align: right;\n",
       "    }\n",
       "</style>\n",
       "<table border=\"1\" class=\"dataframe\">\n",
       "  <thead>\n",
       "    <tr style=\"text-align: right;\">\n",
       "      <th></th>\n",
       "      <th>AÑO</th>\n",
       "      <th>FECHA_DEF</th>\n",
       "      <th>SEXO_NOMBRE</th>\n",
       "      <th>EDAD_TIPO</th>\n",
       "      <th>EDAD_CANT</th>\n",
       "      <th>COD_COMUNA</th>\n",
       "      <th>COMUNA</th>\n",
       "      <th>NOMBRE_REGION</th>\n",
       "      <th>DIAG1</th>\n",
       "      <th>CAPITULO_DIAG1</th>\n",
       "      <th>...</th>\n",
       "      <th>DIAG2</th>\n",
       "      <th>CAPITULO_DIAG2</th>\n",
       "      <th>GLOSA_CAPITULO_DIAG2</th>\n",
       "      <th>CODIGO_GRUPO_DIAG2</th>\n",
       "      <th>GLOSA_GRUPO_DIAG2</th>\n",
       "      <th>CODIGO_CATEGORIA_DIAG2</th>\n",
       "      <th>GLOSA_CATEGORIA_DIAG2</th>\n",
       "      <th>CODIGO_SUBCATEGORIA_DIAG2</th>\n",
       "      <th>GLOSA_SUBCATEGORIA_DIAG2</th>\n",
       "      <th>LUGAR_DEFUNCION</th>\n",
       "    </tr>\n",
       "  </thead>\n",
       "  <tbody>\n",
       "    <tr>\n",
       "      <th>0</th>\n",
       "      <td>2020</td>\n",
       "      <td>2020-12-31</td>\n",
       "      <td>Mujer</td>\n",
       "      <td>1</td>\n",
       "      <td>99</td>\n",
       "      <td>7101</td>\n",
       "      <td>Talca</td>\n",
       "      <td>Del Maule</td>\n",
       "      <td>U071</td>\n",
       "      <td>U00-U99</td>\n",
       "      <td>...</td>\n",
       "      <td>NaN</td>\n",
       "      <td>NaN</td>\n",
       "      <td>NaN</td>\n",
       "      <td>NaN</td>\n",
       "      <td>NaN</td>\n",
       "      <td>NaN</td>\n",
       "      <td>NaN</td>\n",
       "      <td>NaN</td>\n",
       "      <td>NaN</td>\n",
       "      <td>Otro</td>\n",
       "    </tr>\n",
       "    <tr>\n",
       "      <th>1</th>\n",
       "      <td>2020</td>\n",
       "      <td>2020-03-20</td>\n",
       "      <td>Hombre</td>\n",
       "      <td>1</td>\n",
       "      <td>64</td>\n",
       "      <td>13102</td>\n",
       "      <td>Cerrillos</td>\n",
       "      <td>Metropolitana de Santiago</td>\n",
       "      <td>U071</td>\n",
       "      <td>U00-U99</td>\n",
       "      <td>...</td>\n",
       "      <td>NaN</td>\n",
       "      <td>NaN</td>\n",
       "      <td>NaN</td>\n",
       "      <td>NaN</td>\n",
       "      <td>NaN</td>\n",
       "      <td>NaN</td>\n",
       "      <td>NaN</td>\n",
       "      <td>NaN</td>\n",
       "      <td>NaN</td>\n",
       "      <td>Otro</td>\n",
       "    </tr>\n",
       "    <tr>\n",
       "      <th>2</th>\n",
       "      <td>2020</td>\n",
       "      <td>2020-03-21</td>\n",
       "      <td>Mujer</td>\n",
       "      <td>1</td>\n",
       "      <td>82</td>\n",
       "      <td>13128</td>\n",
       "      <td>Renca</td>\n",
       "      <td>Metropolitana de Santiago</td>\n",
       "      <td>U071</td>\n",
       "      <td>U00-U99</td>\n",
       "      <td>...</td>\n",
       "      <td>NaN</td>\n",
       "      <td>NaN</td>\n",
       "      <td>NaN</td>\n",
       "      <td>NaN</td>\n",
       "      <td>NaN</td>\n",
       "      <td>NaN</td>\n",
       "      <td>NaN</td>\n",
       "      <td>NaN</td>\n",
       "      <td>NaN</td>\n",
       "      <td>Hospital o Clínica</td>\n",
       "    </tr>\n",
       "    <tr>\n",
       "      <th>3</th>\n",
       "      <td>2020</td>\n",
       "      <td>2020-03-25</td>\n",
       "      <td>Hombre</td>\n",
       "      <td>1</td>\n",
       "      <td>82</td>\n",
       "      <td>8101</td>\n",
       "      <td>Concepción</td>\n",
       "      <td>Del Bíobío</td>\n",
       "      <td>U071</td>\n",
       "      <td>U00-U99</td>\n",
       "      <td>...</td>\n",
       "      <td>NaN</td>\n",
       "      <td>NaN</td>\n",
       "      <td>NaN</td>\n",
       "      <td>NaN</td>\n",
       "      <td>NaN</td>\n",
       "      <td>NaN</td>\n",
       "      <td>NaN</td>\n",
       "      <td>NaN</td>\n",
       "      <td>NaN</td>\n",
       "      <td>Hospital o Clínica</td>\n",
       "    </tr>\n",
       "    <tr>\n",
       "      <th>4</th>\n",
       "      <td>2020</td>\n",
       "      <td>2020-03-26</td>\n",
       "      <td>Hombre</td>\n",
       "      <td>1</td>\n",
       "      <td>79</td>\n",
       "      <td>8112</td>\n",
       "      <td>Hualpén</td>\n",
       "      <td>Del Bíobío</td>\n",
       "      <td>U071</td>\n",
       "      <td>U00-U99</td>\n",
       "      <td>...</td>\n",
       "      <td>NaN</td>\n",
       "      <td>NaN</td>\n",
       "      <td>NaN</td>\n",
       "      <td>NaN</td>\n",
       "      <td>NaN</td>\n",
       "      <td>NaN</td>\n",
       "      <td>NaN</td>\n",
       "      <td>NaN</td>\n",
       "      <td>NaN</td>\n",
       "      <td>Hospital o Clínica</td>\n",
       "    </tr>\n",
       "    <tr>\n",
       "      <th>...</th>\n",
       "      <td>...</td>\n",
       "      <td>...</td>\n",
       "      <td>...</td>\n",
       "      <td>...</td>\n",
       "      <td>...</td>\n",
       "      <td>...</td>\n",
       "      <td>...</td>\n",
       "      <td>...</td>\n",
       "      <td>...</td>\n",
       "      <td>...</td>\n",
       "      <td>...</td>\n",
       "      <td>...</td>\n",
       "      <td>...</td>\n",
       "      <td>...</td>\n",
       "      <td>...</td>\n",
       "      <td>...</td>\n",
       "      <td>...</td>\n",
       "      <td>...</td>\n",
       "      <td>...</td>\n",
       "      <td>...</td>\n",
       "      <td>...</td>\n",
       "    </tr>\n",
       "    <tr>\n",
       "      <th>58308</th>\n",
       "      <td>2024</td>\n",
       "      <td>2024-10-23</td>\n",
       "      <td>Mujer</td>\n",
       "      <td>1</td>\n",
       "      <td>81</td>\n",
       "      <td>5109</td>\n",
       "      <td>Viña del Mar</td>\n",
       "      <td>De Valparaíso</td>\n",
       "      <td>U099</td>\n",
       "      <td>U00-U99</td>\n",
       "      <td>...</td>\n",
       "      <td>NaN</td>\n",
       "      <td>NaN</td>\n",
       "      <td>NaN</td>\n",
       "      <td>NaN</td>\n",
       "      <td>NaN</td>\n",
       "      <td>NaN</td>\n",
       "      <td>NaN</td>\n",
       "      <td>NaN</td>\n",
       "      <td>NaN</td>\n",
       "      <td>Hospital o Clínica</td>\n",
       "    </tr>\n",
       "    <tr>\n",
       "      <th>58309</th>\n",
       "      <td>2024</td>\n",
       "      <td>2024-10-21</td>\n",
       "      <td>Mujer</td>\n",
       "      <td>1</td>\n",
       "      <td>79</td>\n",
       "      <td>5701</td>\n",
       "      <td>San Felipe</td>\n",
       "      <td>De Valparaíso</td>\n",
       "      <td>U099</td>\n",
       "      <td>U00-U99</td>\n",
       "      <td>...</td>\n",
       "      <td>NaN</td>\n",
       "      <td>NaN</td>\n",
       "      <td>NaN</td>\n",
       "      <td>NaN</td>\n",
       "      <td>NaN</td>\n",
       "      <td>NaN</td>\n",
       "      <td>NaN</td>\n",
       "      <td>NaN</td>\n",
       "      <td>NaN</td>\n",
       "      <td>Hospital o Clínica</td>\n",
       "    </tr>\n",
       "    <tr>\n",
       "      <th>58310</th>\n",
       "      <td>2024</td>\n",
       "      <td>2024-11-05</td>\n",
       "      <td>Mujer</td>\n",
       "      <td>1</td>\n",
       "      <td>87</td>\n",
       "      <td>12101</td>\n",
       "      <td>Punta Arenas</td>\n",
       "      <td>De Magallanes y de La Antártica Chilena</td>\n",
       "      <td>U099</td>\n",
       "      <td>U00-U99</td>\n",
       "      <td>...</td>\n",
       "      <td>NaN</td>\n",
       "      <td>NaN</td>\n",
       "      <td>NaN</td>\n",
       "      <td>NaN</td>\n",
       "      <td>NaN</td>\n",
       "      <td>NaN</td>\n",
       "      <td>NaN</td>\n",
       "      <td>NaN</td>\n",
       "      <td>NaN</td>\n",
       "      <td>Hospital o Clínica</td>\n",
       "    </tr>\n",
       "    <tr>\n",
       "      <th>58311</th>\n",
       "      <td>2024</td>\n",
       "      <td>2024-11-08</td>\n",
       "      <td>Hombre</td>\n",
       "      <td>1</td>\n",
       "      <td>75</td>\n",
       "      <td>7101</td>\n",
       "      <td>Talca</td>\n",
       "      <td>Del Maule</td>\n",
       "      <td>U099</td>\n",
       "      <td>U00-U99</td>\n",
       "      <td>...</td>\n",
       "      <td>NaN</td>\n",
       "      <td>NaN</td>\n",
       "      <td>NaN</td>\n",
       "      <td>NaN</td>\n",
       "      <td>NaN</td>\n",
       "      <td>NaN</td>\n",
       "      <td>NaN</td>\n",
       "      <td>NaN</td>\n",
       "      <td>NaN</td>\n",
       "      <td>Hospital o Clínica</td>\n",
       "    </tr>\n",
       "    <tr>\n",
       "      <th>58312</th>\n",
       "      <td>2024</td>\n",
       "      <td>2024-11-07</td>\n",
       "      <td>Hombre</td>\n",
       "      <td>1</td>\n",
       "      <td>100</td>\n",
       "      <td>8108</td>\n",
       "      <td>San Pedro de la Paz</td>\n",
       "      <td>Del Bíobío</td>\n",
       "      <td>U099</td>\n",
       "      <td>U00-U99</td>\n",
       "      <td>...</td>\n",
       "      <td>NaN</td>\n",
       "      <td>NaN</td>\n",
       "      <td>NaN</td>\n",
       "      <td>NaN</td>\n",
       "      <td>NaN</td>\n",
       "      <td>NaN</td>\n",
       "      <td>NaN</td>\n",
       "      <td>NaN</td>\n",
       "      <td>NaN</td>\n",
       "      <td>Hospital o Clínica</td>\n",
       "    </tr>\n",
       "  </tbody>\n",
       "</table>\n",
       "<p>58313 rows × 27 columns</p>\n",
       "</div>"
      ]
     },
     "execution_count": 9,
     "metadata": {},
     "output_type": "execute_result"
    }
   ],
   "execution_count": 9
  },
  {
   "metadata": {
    "ExecuteTime": {
     "end_time": "2024-11-22T13:24:12.771941Z",
     "start_time": "2024-11-22T13:24:12.767799Z"
    }
   },
   "cell_type": "code",
   "source": "len(df.columns.tolist())",
   "outputs": [
    {
     "data": {
      "text/plain": [
       "27"
      ]
     },
     "execution_count": 12,
     "metadata": {},
     "output_type": "execute_result"
    }
   ],
   "execution_count": 12
  },
  {
   "metadata": {},
   "cell_type": "code",
   "outputs": [],
   "execution_count": null,
   "source": ""
  },
  {
   "metadata": {
    "ExecuteTime": {
     "end_time": "2024-11-22T13:30:27.210165Z",
     "start_time": "2024-11-22T13:30:27.203414Z"
    }
   },
   "cell_type": "code",
   "source": "df[\"EDAD_TIPO\"].unique()",
   "outputs": [
    {
     "data": {
      "text/plain": [
       "array([1, 2, 3])"
      ]
     },
     "execution_count": 16,
     "metadata": {},
     "output_type": "execute_result"
    }
   ],
   "execution_count": 16
  },
  {
   "metadata": {
    "ExecuteTime": {
     "end_time": "2024-11-22T13:35:20.196812Z",
     "start_time": "2024-11-22T13:35:20.189157Z"
    }
   },
   "cell_type": "code",
   "outputs": [
    {
     "data": {
      "text/plain": [
       "array([ 1,  2,  3,  4,  5,  6,  7,  8,  9, 10, 11])"
      ]
     },
     "execution_count": 29,
     "metadata": {},
     "output_type": "execute_result"
    }
   ],
   "execution_count": 29,
   "source": [
    "l = df[df[\"EDAD_TIPO\"] == 2][\"EDAD_CANT\"].unique()\n",
    "l.sort()\n",
    "l"
   ]
  },
  {
   "metadata": {
    "ExecuteTime": {
     "end_time": "2024-11-22T13:35:20.891473Z",
     "start_time": "2024-11-22T13:35:20.872354Z"
    }
   },
   "cell_type": "code",
   "outputs": [
    {
     "data": {
      "text/plain": [
       "array([  1,   2,   3,   4,   5,   6,   7,   8,   9,  10,  11,  12,  13,\n",
       "        14,  15,  16,  17,  18,  19,  20,  21,  22,  23,  24,  25,  26,\n",
       "        27,  28,  29,  30,  31,  32,  33,  34,  35,  36,  37,  38,  39,\n",
       "        40,  41,  42,  43,  44,  45,  46,  47,  48,  49,  50,  51,  52,\n",
       "        53,  54,  55,  56,  57,  58,  59,  60,  61,  62,  63,  64,  65,\n",
       "        66,  67,  68,  69,  70,  71,  72,  73,  74,  75,  76,  77,  78,\n",
       "        79,  80,  81,  82,  83,  84,  85,  86,  87,  88,  89,  90,  91,\n",
       "        92,  93,  94,  95,  96,  97,  98,  99, 100, 101, 102, 103, 104,\n",
       "       105, 106, 107, 108, 109, 110, 111, 113, 126])"
      ]
     },
     "execution_count": 30,
     "metadata": {},
     "output_type": "execute_result"
    }
   ],
   "execution_count": 30,
   "source": [
    "l = df[df[\"EDAD_TIPO\"] == 1][\"EDAD_CANT\"].unique()\n",
    "l.sort()\n",
    "l"
   ]
  },
  {
   "metadata": {
    "ExecuteTime": {
     "end_time": "2024-11-22T13:36:42.253583Z",
     "start_time": "2024-11-22T13:36:42.246173Z"
    }
   },
   "cell_type": "code",
   "outputs": [
    {
     "data": {
      "text/plain": [
       "array([28, 30])"
      ]
     },
     "execution_count": 31,
     "metadata": {},
     "output_type": "execute_result"
    }
   ],
   "execution_count": 31,
   "source": [
    "l = df[df[\"EDAD_TIPO\"] == 3][\"EDAD_CANT\"].unique()\n",
    "l.sort()\n",
    "l"
   ]
  },
  {
   "metadata": {
    "ExecuteTime": {
     "end_time": "2024-11-22T13:49:36.822107Z",
     "start_time": "2024-11-22T13:49:36.816385Z"
    }
   },
   "cell_type": "code",
   "source": "df[\"FECHA_DEF\"][0]",
   "outputs": [
    {
     "data": {
      "text/plain": [
       "Timestamp('2020-12-31 00:00:00')"
      ]
     },
     "execution_count": 40,
     "metadata": {},
     "output_type": "execute_result"
    }
   ],
   "execution_count": 40
  },
  {
   "metadata": {
    "ExecuteTime": {
     "end_time": "2024-11-22T13:54:49.574807Z",
     "start_time": "2024-11-22T13:54:49.551447Z"
    }
   },
   "cell_type": "code",
   "source": [
    "diag_columns = [x for x in df.columns.unique().tolist() if \"DIAG\" in x]\n",
    "\n",
    "for diag_column in diag_columns:\n",
    "    print(diag_column)\n",
    "    print(df[diag_column].unique())"
   ],
   "outputs": [
    {
     "name": "stdout",
     "output_type": "stream",
     "text": [
      "DIAG1\n",
      "['U071' 'U072' 'U099']\n",
      "CAPITULO_DIAG1\n",
      "['U00-U99']\n",
      "GLOSA_CAPITULO_DIAG1\n",
      "['Códigos para propósitos especiales']\n",
      "CODIGO_GRUPO_DIAG1\n",
      "['U00-U49']\n",
      "GLOSA_GRUPO_DIAG1\n",
      "['Asignación provisoria de nuevas afecciones de etiología incierta']\n",
      "CODIGO_CATEGORIA_DIAG1\n",
      "['U07' 'U09']\n",
      "GLOSA_CATEGORIA_DIAG1\n",
      "['Uso emergente de U07' 'Condición de salud posterior a COVID-19']\n",
      "CODIGO_SUBCATEGORIA_DIAG1\n",
      "['U071' 'U072' 'U099']\n",
      "GLOSA_SUBCATEGORIA_DIAG1\n",
      "['COVID-19 virus identificado' 'COVID-19 virus no identificado'\n",
      " 'Condición de salud posterior a COVID-19 no especificada']\n",
      "DIAG2\n",
      "[nan '    ']\n",
      "CAPITULO_DIAG2\n",
      "[nan]\n",
      "GLOSA_CAPITULO_DIAG2\n",
      "[nan]\n",
      "CODIGO_GRUPO_DIAG2\n",
      "[nan]\n",
      "GLOSA_GRUPO_DIAG2\n",
      "[nan]\n",
      "CODIGO_CATEGORIA_DIAG2\n",
      "[nan]\n",
      "GLOSA_CATEGORIA_DIAG2\n",
      "[nan]\n",
      "CODIGO_SUBCATEGORIA_DIAG2\n",
      "[nan]\n",
      "GLOSA_SUBCATEGORIA_DIAG2\n",
      "[nan]\n"
     ]
    }
   ],
   "execution_count": 44
  },
  {
   "metadata": {
    "ExecuteTime": {
     "end_time": "2024-11-22T14:02:26.885325Z",
     "start_time": "2024-11-22T14:02:26.878473Z"
    }
   },
   "cell_type": "code",
   "source": "df[df[\"DIAG1\"]== \"U099\"][\"DIAG1\"].count()",
   "outputs": [
    {
     "data": {
      "text/plain": [
       "np.int64(242)"
      ]
     },
     "execution_count": 52,
     "metadata": {},
     "output_type": "execute_result"
    }
   ],
   "execution_count": 52
  },
  {
   "cell_type": "code",
   "metadata": {
    "ExecuteTime": {
     "end_time": "2024-11-22T13:24:18.043002Z",
     "start_time": "2024-11-22T13:24:18.032239Z"
    }
   },
   "source": [
    "    # Convert to datetime \n",
    "df['FECHA_DEF'] = pd.to_datetime(df['FECHA_DEF']) \n",
    "\n",
    "# Extract year \n",
    "df['YearMonth'] = df['FECHA_DEF'].dt.to_period('M') \n",
    "\n",
    "# Find the range of year and month \n",
    "min_year_month = df['YearMonth'].min() \n",
    "max_year_month = df['YearMonth'].max() \n",
    "print(f\"Range of year and month: {min_year_month} - {max_year_month}\")"
   ],
   "outputs": [
    {
     "name": "stdout",
     "output_type": "stream",
     "text": [
      "Range of year and month: 2020-03 - 2024-11\n"
     ]
    }
   ],
   "execution_count": 13
  },
  {
   "cell_type": "code",
   "metadata": {
    "ExecuteTime": {
     "end_time": "2024-11-22T13:24:20.384598Z",
     "start_time": "2024-11-22T13:24:20.347962Z"
    }
   },
   "source": [
    "print(\"\\nBasic Statistics:\")\n",
    "print(df.describe())"
   ],
   "outputs": [
    {
     "name": "stdout",
     "output_type": "stream",
     "text": [
      "\n",
      "Basic Statistics:\n",
      "                AÑO                      FECHA_DEF     EDAD_TIPO  \\\n",
      "count  58313.000000                          58313  58313.000000   \n",
      "mean    2021.042083  2021-06-24 13:41:42.213914368      1.000566   \n",
      "min     2020.000000            2020-03-20 00:00:00      1.000000   \n",
      "25%     2020.000000            2020-09-11 00:00:00      1.000000   \n",
      "50%     2021.000000            2021-05-06 00:00:00      1.000000   \n",
      "75%     2022.000000            2022-02-14 00:00:00      1.000000   \n",
      "max     2024.000000            2024-11-14 00:00:00      3.000000   \n",
      "std        0.930043                            NaN      0.025183   \n",
      "\n",
      "          EDAD_CANT    COD_COMUNA  CAPITULO_DIAG2  GLOSA_CAPITULO_DIAG2  \\\n",
      "count  58313.000000  58313.000000             0.0                   0.0   \n",
      "mean      73.844374  10225.798793             NaN                   NaN   \n",
      "min        1.000000   1101.000000             NaN                   NaN   \n",
      "25%       65.000000   7102.000000             NaN                   NaN   \n",
      "50%       76.000000  13104.000000             NaN                   NaN   \n",
      "75%       85.000000  13124.000000             NaN                   NaN   \n",
      "max      126.000000  16305.000000             NaN                   NaN   \n",
      "std       14.619684   3855.488695             NaN                   NaN   \n",
      "\n",
      "       CODIGO_GRUPO_DIAG2  GLOSA_GRUPO_DIAG2  CODIGO_CATEGORIA_DIAG2  \\\n",
      "count                 0.0                0.0                     0.0   \n",
      "mean                  NaN                NaN                     NaN   \n",
      "min                   NaN                NaN                     NaN   \n",
      "25%                   NaN                NaN                     NaN   \n",
      "50%                   NaN                NaN                     NaN   \n",
      "75%                   NaN                NaN                     NaN   \n",
      "max                   NaN                NaN                     NaN   \n",
      "std                   NaN                NaN                     NaN   \n",
      "\n",
      "       GLOSA_CATEGORIA_DIAG2  CODIGO_SUBCATEGORIA_DIAG2  \\\n",
      "count                    0.0                        0.0   \n",
      "mean                     NaN                        NaN   \n",
      "min                      NaN                        NaN   \n",
      "25%                      NaN                        NaN   \n",
      "50%                      NaN                        NaN   \n",
      "75%                      NaN                        NaN   \n",
      "max                      NaN                        NaN   \n",
      "std                      NaN                        NaN   \n",
      "\n",
      "       GLOSA_SUBCATEGORIA_DIAG2  \n",
      "count                       0.0  \n",
      "mean                        NaN  \n",
      "min                         NaN  \n",
      "25%                         NaN  \n",
      "50%                         NaN  \n",
      "75%                         NaN  \n",
      "max                         NaN  \n",
      "std                         NaN  \n"
     ]
    }
   ],
   "execution_count": 14
  },
  {
   "cell_type": "code",
   "metadata": {
    "ExecuteTime": {
     "end_time": "2024-11-22T13:24:21.382967Z",
     "start_time": "2024-11-22T13:24:21.345649Z"
    }
   },
   "source": [
    "print(\"\\nMissing Values:\")\n",
    "print(df.isnull().sum())"
   ],
   "outputs": [
    {
     "name": "stdout",
     "output_type": "stream",
     "text": [
      "\n",
      "Missing Values:\n",
      "AÑO                              0\n",
      "FECHA_DEF                        0\n",
      "SEXO_NOMBRE                      0\n",
      "EDAD_TIPO                        0\n",
      "EDAD_CANT                        0\n",
      "COD_COMUNA                       0\n",
      "COMUNA                           0\n",
      "NOMBRE_REGION                    0\n",
      "DIAG1                            0\n",
      "CAPITULO_DIAG1                   0\n",
      "GLOSA_CAPITULO_DIAG1             0\n",
      "CODIGO_GRUPO_DIAG1               0\n",
      "GLOSA_GRUPO_DIAG1                0\n",
      "CODIGO_CATEGORIA_DIAG1           0\n",
      "GLOSA_CATEGORIA_DIAG1            0\n",
      "CODIGO_SUBCATEGORIA_DIAG1        0\n",
      "GLOSA_SUBCATEGORIA_DIAG1         0\n",
      "DIAG2                        57368\n",
      "CAPITULO_DIAG2               58313\n",
      "GLOSA_CAPITULO_DIAG2         58313\n",
      "CODIGO_GRUPO_DIAG2           58313\n",
      "GLOSA_GRUPO_DIAG2            58313\n",
      "CODIGO_CATEGORIA_DIAG2       58313\n",
      "GLOSA_CATEGORIA_DIAG2        58313\n",
      "CODIGO_SUBCATEGORIA_DIAG2    58313\n",
      "GLOSA_SUBCATEGORIA_DIAG2     58313\n",
      "LUGAR_DEFUNCION                  0\n",
      "YearMonth                        0\n",
      "dtype: int64\n"
     ]
    }
   ],
   "execution_count": 15
  }
 ],
 "metadata": {
  "kernelspec": {
   "display_name": ".venv",
   "language": "python",
   "name": "python3"
  },
  "language_info": {
   "codemirror_mode": {
    "name": "ipython",
    "version": 3
   },
   "file_extension": ".py",
   "mimetype": "text/x-python",
   "name": "python",
   "nbconvert_exporter": "python",
   "pygments_lexer": "ipython3",
   "version": "3.12.3"
  }
 },
 "nbformat": 4,
 "nbformat_minor": 2
}
