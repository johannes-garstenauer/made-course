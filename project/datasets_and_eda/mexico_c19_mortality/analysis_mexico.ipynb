{
 "cells": [
  {
   "cell_type": "code",
   "metadata": {
    "ExecuteTime": {
     "end_time": "2024-11-12T11:26:52.291371Z",
     "start_time": "2024-11-12T11:26:51.032755Z"
    }
   },
   "source": [
    "import pandas as pd\n",
    "\n",
    "# Read CSV file into a DataFrame\n",
    "df = pd.read_csv('Casos_Diarios_Estado_Nacional_Defunciones_20230625.csv')\n",
    "\n",
    "# Display the first few rows\n",
    "print(\"First 5 rows:\")\n",
    "print(df.head())"
   ],
   "outputs": [
    {
     "name": "stdout",
     "output_type": "stream",
     "text": [
      "First 5 rows:\n",
      "   cve_ent  poblacion               nombre  17-03-2020  18-03-2020  \\\n",
      "0        1    1434635       AGUASCALIENTES           0           0   \n",
      "1        2    3634868      BAJA CALIFORNIA           0           0   \n",
      "2        3     804708  BAJA CALIFORNIA SUR           0           0   \n",
      "3        4    1000617             CAMPECHE           0           0   \n",
      "4        7    5730367              CHIAPAS           0           0   \n",
      "\n",
      "   19-03-2020  20-03-2020  21-03-2020  22-03-2020  23-03-2020  ...  \\\n",
      "0           0           0           0           0           0  ...   \n",
      "1           0           0           0           0           0  ...   \n",
      "2           0           0           0           0           0  ...   \n",
      "3           0           0           0           0           0  ...   \n",
      "4           0           0           0           0           0  ...   \n",
      "\n",
      "   14-06-2023  15-06-2023  16-06-2023  17-06-2023  18-06-2023  19-06-2023  \\\n",
      "0           0           0           0           0           0           0   \n",
      "1           0           0           0           0           0           0   \n",
      "2           0           0           0           0           0           0   \n",
      "3           0           0           0           0           0           0   \n",
      "4           0           0           0           0           0           0   \n",
      "\n",
      "   20-06-2023  21-06-2023  22-06-2023  23-06-2023  \n",
      "0           1           0           0           0  \n",
      "1           0           0           1           0  \n",
      "2           0           0           0           0  \n",
      "3           0           0           0           0  \n",
      "4           0           0           0           0  \n",
      "\n",
      "[5 rows x 1197 columns]\n"
     ]
    }
   ],
   "execution_count": 2
  },
  {
   "cell_type": "code",
   "metadata": {
    "ExecuteTime": {
     "end_time": "2024-11-12T11:26:55.111517Z",
     "start_time": "2024-11-12T11:26:53.441623Z"
    }
   },
   "source": [
    "\n",
    "# Get basic statistics\n",
    "print(\"\\nBasic Statistics:\")\n",
    "print(df.describe())"
   ],
   "outputs": [
    {
     "name": "stdout",
     "output_type": "stream",
     "text": [
      "\n",
      "Basic Statistics:\n",
      "        cve_ent     poblacion  17-03-2020  18-03-2020  19-03-2020  20-03-2020  \\\n",
      "count  33.00000  3.300000e+01        33.0   33.000000        33.0   33.000000   \n",
      "mean   16.00000  7.744987e+06         0.0    0.181818         0.0    0.060606   \n",
      "std     9.66954  2.179977e+07         0.0    0.583874         0.0    0.242306   \n",
      "min     0.00000  7.851530e+05         0.0    0.000000         0.0    0.000000   \n",
      "25%     8.00000  1.868996e+06         0.0    0.000000         0.0    0.000000   \n",
      "50%    16.00000  3.156674e+06         0.0    0.000000         0.0    0.000000   \n",
      "75%    24.00000  5.610153e+06         0.0    0.000000         0.0    0.000000   \n",
      "max    32.00000  1.277923e+08         0.0    3.000000         0.0    1.000000   \n",
      "\n",
      "       21-03-2020  22-03-2020  23-03-2020  24-03-2020  ...  14-06-2023  \\\n",
      "count        33.0   33.000000   33.000000   33.000000  ...   33.000000   \n",
      "mean          0.0    0.121212    0.060606    0.181818  ...    0.303030   \n",
      "std           0.0    0.415149    0.242306    0.583874  ...    0.951474   \n",
      "min           0.0    0.000000    0.000000    0.000000  ...    0.000000   \n",
      "25%           0.0    0.000000    0.000000    0.000000  ...    0.000000   \n",
      "50%           0.0    0.000000    0.000000    0.000000  ...    0.000000   \n",
      "75%           0.0    0.000000    0.000000    0.000000  ...    0.000000   \n",
      "max           0.0    2.000000    1.000000    3.000000  ...    5.000000   \n",
      "\n",
      "       15-06-2023  16-06-2023  17-06-2023  18-06-2023  19-06-2023  20-06-2023  \\\n",
      "count        33.0   33.000000   33.000000   33.000000   33.000000   33.000000   \n",
      "mean          0.0    0.181818    0.181818    0.242424    0.121212    0.363636   \n",
      "std           0.0    0.635145    0.583874    0.751262    0.415149    1.245446   \n",
      "min           0.0    0.000000    0.000000    0.000000    0.000000    0.000000   \n",
      "25%           0.0    0.000000    0.000000    0.000000    0.000000    0.000000   \n",
      "50%           0.0    0.000000    0.000000    0.000000    0.000000    0.000000   \n",
      "75%           0.0    0.000000    0.000000    0.000000    0.000000    0.000000   \n",
      "max           0.0    3.000000    3.000000    4.000000    2.000000    6.000000   \n",
      "\n",
      "       21-06-2023  22-06-2023  23-06-2023  \n",
      "count   33.000000   33.000000   33.000000  \n",
      "mean     0.181818    0.060606    0.060606  \n",
      "std      0.583874    0.242306    0.242306  \n",
      "min      0.000000    0.000000    0.000000  \n",
      "25%      0.000000    0.000000    0.000000  \n",
      "50%      0.000000    0.000000    0.000000  \n",
      "75%      0.000000    0.000000    0.000000  \n",
      "max      3.000000    1.000000    1.000000  \n",
      "\n",
      "[8 rows x 1196 columns]\n"
     ]
    }
   ],
   "execution_count": 3
  },
  {
   "cell_type": "code",
   "metadata": {
    "ExecuteTime": {
     "end_time": "2024-11-12T11:26:56.862539Z",
     "start_time": "2024-11-12T11:26:56.849651Z"
    }
   },
   "source": [
    "# Check for missing values\n",
    "missing_values = df.isnull().sum()\n",
    "\n",
    "print(\"Missing values in each column:\")\n",
    "print(missing_values)\n"
   ],
   "outputs": [
    {
     "name": "stdout",
     "output_type": "stream",
     "text": [
      "Missing values in each column:\n",
      "cve_ent       0\n",
      "poblacion     0\n",
      "nombre        0\n",
      "17-03-2020    0\n",
      "18-03-2020    0\n",
      "             ..\n",
      "19-06-2023    0\n",
      "20-06-2023    0\n",
      "21-06-2023    0\n",
      "22-06-2023    0\n",
      "23-06-2023    0\n",
      "Length: 1197, dtype: int64\n"
     ]
    }
   ],
   "execution_count": 4
  },
  {
   "cell_type": "code",
   "metadata": {
    "ExecuteTime": {
     "end_time": "2024-11-12T11:26:59.615395Z",
     "start_time": "2024-11-12T11:26:59.602067Z"
    }
   },
   "source": [
    "# Extract date columns \n",
    "date_columns = df.columns[3:] \n",
    "\n",
    "# Convert date columns to datetime \n",
    "date_columns_dt = pd.to_datetime(date_columns, format='%d-%m-%Y') \n",
    "\n",
    "# Find the time range \n",
    "start_date = date_columns_dt.min() \n",
    "end_date = date_columns_dt.max() \n",
    "print(f\"Time range: {start_date.date()} to {end_date.date()}\")"
   ],
   "outputs": [
    {
     "name": "stdout",
     "output_type": "stream",
     "text": [
      "Time range: 2020-03-17 to 2023-06-23\n"
     ]
    }
   ],
   "execution_count": 5
  },
  {
   "cell_type": "code",
   "metadata": {
    "ExecuteTime": {
     "end_time": "2024-11-12T11:27:03.633292Z",
     "start_time": "2024-11-12T11:27:03.624683Z"
    }
   },
   "source": [
    "# Sum the death counts for all date columns\n",
    "df_nacional = df[df[\"nombre\"] == \"Nacional\"]\n",
    "\n",
    "total_deaths = df_nacional[date_columns].sum().sum()\n",
    "\n",
    "print(f\"Total deaths: {total_deaths}\")"
   ],
   "outputs": [
    {
     "name": "stdout",
     "output_type": "stream",
     "text": [
      "Total deaths: 334336\n"
     ]
    }
   ],
   "execution_count": 6
  },
  {
   "cell_type": "code",
   "execution_count": null,
   "metadata": {},
   "outputs": [],
   "source": []
  }
 ],
 "metadata": {
  "kernelspec": {
   "display_name": ".venv",
   "language": "python",
   "name": "python3"
  },
  "language_info": {
   "codemirror_mode": {
    "name": "ipython",
    "version": 3
   },
   "file_extension": ".py",
   "mimetype": "text/x-python",
   "name": "python",
   "nbconvert_exporter": "python",
   "pygments_lexer": "ipython3",
   "version": "3.12.3"
  }
 },
 "nbformat": 4,
 "nbformat_minor": 2
}
